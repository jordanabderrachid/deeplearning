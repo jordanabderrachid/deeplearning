{
 "cells": [
  {
   "cell_type": "code",
   "execution_count": 1,
   "metadata": {},
   "outputs": [
    {
     "name": "stdout",
     "output_type": "stream",
     "text": [
      "Requirement already satisfied: torchvision in /opt/conda/lib/python3.10/site-packages (0.16.2)\n",
      "Requirement already satisfied: torch in /opt/conda/lib/python3.10/site-packages (2.1.2)\n",
      "Collecting matplotlib\n",
      "  Downloading matplotlib-3.8.2-cp310-cp310-manylinux_2_17_x86_64.manylinux2014_x86_64.whl.metadata (5.8 kB)\n",
      "Requirement already satisfied: numpy in /opt/conda/lib/python3.10/site-packages (from torchvision) (1.26.2)\n",
      "Requirement already satisfied: requests in /opt/conda/lib/python3.10/site-packages (from torchvision) (2.31.0)\n",
      "Requirement already satisfied: pillow!=8.3.*,>=5.3.0 in /opt/conda/lib/python3.10/site-packages (from torchvision) (10.0.1)\n",
      "Requirement already satisfied: filelock in /opt/conda/lib/python3.10/site-packages (from torch) (3.13.1)\n",
      "Requirement already satisfied: typing-extensions in /opt/conda/lib/python3.10/site-packages (from torch) (4.7.1)\n",
      "Requirement already satisfied: sympy in /opt/conda/lib/python3.10/site-packages (from torch) (1.12)\n",
      "Requirement already satisfied: networkx in /opt/conda/lib/python3.10/site-packages (from torch) (3.1)\n",
      "Requirement already satisfied: jinja2 in /opt/conda/lib/python3.10/site-packages (from torch) (3.1.2)\n",
      "Requirement already satisfied: fsspec in /opt/conda/lib/python3.10/site-packages (from torch) (2023.12.2)\n",
      "Collecting contourpy>=1.0.1 (from matplotlib)\n",
      "  Downloading contourpy-1.2.0-cp310-cp310-manylinux_2_17_x86_64.manylinux2014_x86_64.whl.metadata (5.8 kB)\n",
      "Collecting cycler>=0.10 (from matplotlib)\n",
      "  Downloading cycler-0.12.1-py3-none-any.whl.metadata (3.8 kB)\n",
      "Collecting fonttools>=4.22.0 (from matplotlib)\n",
      "  Downloading fonttools-4.47.0-cp310-cp310-manylinux_2_17_x86_64.manylinux2014_x86_64.whl.metadata (157 kB)\n",
      "\u001b[2K     \u001b[90m━━━━━━━━━━━━━━━━━━━━━━━━━━━━━━━━━━━━━━\u001b[0m \u001b[32m157.2/157.2 kB\u001b[0m \u001b[31m10.7 MB/s\u001b[0m eta \u001b[36m0:00:00\u001b[0m\n",
      "\u001b[?25hCollecting kiwisolver>=1.3.1 (from matplotlib)\n",
      "  Downloading kiwisolver-1.4.5-cp310-cp310-manylinux_2_12_x86_64.manylinux2010_x86_64.whl.metadata (6.4 kB)\n",
      "Requirement already satisfied: packaging>=20.0 in /opt/conda/lib/python3.10/site-packages (from matplotlib) (23.1)\n",
      "Collecting pyparsing>=2.3.1 (from matplotlib)\n",
      "  Downloading pyparsing-3.1.1-py3-none-any.whl.metadata (5.1 kB)\n",
      "Requirement already satisfied: python-dateutil>=2.7 in /opt/conda/lib/python3.10/site-packages (from matplotlib) (2.8.2)\n",
      "Requirement already satisfied: six>=1.5 in /opt/conda/lib/python3.10/site-packages (from python-dateutil>=2.7->matplotlib) (1.16.0)\n",
      "Requirement already satisfied: MarkupSafe>=2.0 in /opt/conda/lib/python3.10/site-packages (from jinja2->torch) (2.1.1)\n",
      "Requirement already satisfied: charset-normalizer<4,>=2 in /opt/conda/lib/python3.10/site-packages (from requests->torchvision) (2.0.4)\n",
      "Requirement already satisfied: idna<4,>=2.5 in /opt/conda/lib/python3.10/site-packages (from requests->torchvision) (3.4)\n",
      "Requirement already satisfied: urllib3<3,>=1.21.1 in /opt/conda/lib/python3.10/site-packages (from requests->torchvision) (1.26.18)\n",
      "Requirement already satisfied: certifi>=2017.4.17 in /opt/conda/lib/python3.10/site-packages (from requests->torchvision) (2023.11.17)\n",
      "Requirement already satisfied: mpmath>=0.19 in /opt/conda/lib/python3.10/site-packages (from sympy->torch) (1.3.0)\n",
      "Downloading matplotlib-3.8.2-cp310-cp310-manylinux_2_17_x86_64.manylinux2014_x86_64.whl (11.6 MB)\n",
      "\u001b[2K   \u001b[90m━━━━━━━━━━━━━━━━━━━━━━━━━━━━━━━━━━━━━━━━\u001b[0m \u001b[32m11.6/11.6 MB\u001b[0m \u001b[31m85.6 MB/s\u001b[0m eta \u001b[36m0:00:00\u001b[0m:00:01\u001b[0m0:01\u001b[0m\n",
      "\u001b[?25hDownloading contourpy-1.2.0-cp310-cp310-manylinux_2_17_x86_64.manylinux2014_x86_64.whl (310 kB)\n",
      "\u001b[2K   \u001b[90m━━━━━━━━━━━━━━━━━━━━━━━━━━━━━━━━━━━━━━━━\u001b[0m \u001b[32m310.7/310.7 kB\u001b[0m \u001b[31m30.7 MB/s\u001b[0m eta \u001b[36m0:00:00\u001b[0m\n",
      "\u001b[?25hDownloading cycler-0.12.1-py3-none-any.whl (8.3 kB)\n",
      "Downloading fonttools-4.47.0-cp310-cp310-manylinux_2_17_x86_64.manylinux2014_x86_64.whl (4.6 MB)\n",
      "\u001b[2K   \u001b[90m━━━━━━━━━━━━━━━━━━━━━━━━━━━━━━━━━━━━━━━━\u001b[0m \u001b[32m4.6/4.6 MB\u001b[0m \u001b[31m84.2 MB/s\u001b[0m eta \u001b[36m0:00:00\u001b[0mta \u001b[36m0:00:01\u001b[0m\n",
      "\u001b[?25hDownloading kiwisolver-1.4.5-cp310-cp310-manylinux_2_12_x86_64.manylinux2010_x86_64.whl (1.6 MB)\n",
      "\u001b[2K   \u001b[90m━━━━━━━━━━━━━━━━━━━━━━━━━━━━━━━━━━━━━━━━\u001b[0m \u001b[32m1.6/1.6 MB\u001b[0m \u001b[31m85.0 MB/s\u001b[0m eta \u001b[36m0:00:00\u001b[0m\n",
      "\u001b[?25hDownloading pyparsing-3.1.1-py3-none-any.whl (103 kB)\n",
      "\u001b[2K   \u001b[90m━━━━━━━━━━━━━━━━━━━━━━━━━━━━━━━━━━━━━━━━\u001b[0m \u001b[32m103.1/103.1 kB\u001b[0m \u001b[31m17.3 MB/s\u001b[0m eta \u001b[36m0:00:00\u001b[0m\n",
      "\u001b[?25hInstalling collected packages: pyparsing, kiwisolver, fonttools, cycler, contourpy, matplotlib\n",
      "Successfully installed contourpy-1.2.0 cycler-0.12.1 fonttools-4.47.0 kiwisolver-1.4.5 matplotlib-3.8.2 pyparsing-3.1.1\n",
      "\u001b[33mWARNING: Running pip as the 'root' user can result in broken permissions and conflicting behaviour with the system package manager. It is recommended to use a virtual environment instead: https://pip.pypa.io/warnings/venv\u001b[0m\u001b[33m\n",
      "\u001b[0m"
     ]
    }
   ],
   "source": [
    "! pip install torchvision torch matplotlib"
   ]
  },
  {
   "cell_type": "code",
   "execution_count": 2,
   "metadata": {},
   "outputs": [],
   "source": [
    "import torchvision\n",
    "import torch"
   ]
  },
  {
   "cell_type": "code",
   "execution_count": 3,
   "metadata": {},
   "outputs": [
    {
     "name": "stdout",
     "output_type": "stream",
     "text": [
      "Downloading http://yann.lecun.com/exdb/mnist/train-images-idx3-ubyte.gz\n",
      "Downloading http://yann.lecun.com/exdb/mnist/train-images-idx3-ubyte.gz to dataset/MNIST/raw/train-images-idx3-ubyte.gz\n"
     ]
    },
    {
     "name": "stderr",
     "output_type": "stream",
     "text": [
      "100%|██████████| 9912422/9912422 [00:00<00:00, 158601777.09it/s]\n"
     ]
    },
    {
     "name": "stdout",
     "output_type": "stream",
     "text": [
      "Extracting dataset/MNIST/raw/train-images-idx3-ubyte.gz to dataset/MNIST/raw\n",
      "\n",
      "Downloading http://yann.lecun.com/exdb/mnist/train-labels-idx1-ubyte.gz\n",
      "Downloading http://yann.lecun.com/exdb/mnist/train-labels-idx1-ubyte.gz to dataset/MNIST/raw/train-labels-idx1-ubyte.gz\n"
     ]
    },
    {
     "name": "stderr",
     "output_type": "stream",
     "text": [
      "100%|██████████| 28881/28881 [00:00<00:00, 30080877.53it/s]"
     ]
    },
    {
     "name": "stdout",
     "output_type": "stream",
     "text": [
      "Extracting dataset/MNIST/raw/train-labels-idx1-ubyte.gz to dataset/MNIST/raw\n"
     ]
    },
    {
     "name": "stderr",
     "output_type": "stream",
     "text": [
      "\n"
     ]
    },
    {
     "name": "stdout",
     "output_type": "stream",
     "text": [
      "\n",
      "Downloading http://yann.lecun.com/exdb/mnist/t10k-images-idx3-ubyte.gz\n",
      "Downloading http://yann.lecun.com/exdb/mnist/t10k-images-idx3-ubyte.gz to dataset/MNIST/raw/t10k-images-idx3-ubyte.gz\n"
     ]
    },
    {
     "name": "stderr",
     "output_type": "stream",
     "text": [
      "100%|██████████| 1648877/1648877 [00:00<00:00, 123663681.66it/s]\n"
     ]
    },
    {
     "name": "stdout",
     "output_type": "stream",
     "text": [
      "Extracting dataset/MNIST/raw/t10k-images-idx3-ubyte.gz to dataset/MNIST/raw\n",
      "\n",
      "Downloading http://yann.lecun.com/exdb/mnist/t10k-labels-idx1-ubyte.gz\n",
      "Downloading http://yann.lecun.com/exdb/mnist/t10k-labels-idx1-ubyte.gz to dataset/MNIST/raw/t10k-labels-idx1-ubyte.gz\n"
     ]
    },
    {
     "name": "stderr",
     "output_type": "stream",
     "text": [
      "100%|██████████| 4542/4542 [00:00<00:00, 4043839.69it/s]"
     ]
    },
    {
     "name": "stdout",
     "output_type": "stream",
     "text": [
      "Extracting dataset/MNIST/raw/t10k-labels-idx1-ubyte.gz to dataset/MNIST/raw\n",
      "\n"
     ]
    },
    {
     "name": "stderr",
     "output_type": "stream",
     "text": [
      "\n"
     ]
    }
   ],
   "source": [
    "from torchvision.transforms import v2\n",
    "\n",
    "transform = v2.Compose([\n",
    "    v2.PILToTensor(),\n",
    "    v2.ToDtype(torch.float32),\n",
    "    v2.Lambda(lambd=lambda img: img / 255)\n",
    "])\n",
    "\n",
    "\n",
    "train_dataset = torchvision.datasets.MNIST(\"dataset\", train=True, download=True, transform=transform)\n",
    "test_dataset = torchvision.datasets.MNIST(\"dataset\", train=False, download=True, transform=transform)"
   ]
  },
  {
   "cell_type": "code",
   "execution_count": 4,
   "metadata": {},
   "outputs": [],
   "source": [
    "import torch.nn as nn\n",
    "import torch.nn.functional as F\n",
    "\n",
    "class SubSampling(nn.Module):\n",
    "    def __init__(self, in_shape, out_shape):\n",
    "        super().__init__()\n",
    "        assert len(in_shape) == 3\n",
    "        assert len(out_shape) == 3\n",
    "        assert in_shape[0] == out_shape[0]\n",
    "        assert in_shape[1] == in_shape[2]\n",
    "        assert out_shape[1] == out_shape[2]\n",
    "        assert in_shape[1] // 2 == out_shape[1]\n",
    "\n",
    "        C = out_shape[0]\n",
    "        self.alpha = nn.Parameter(torch.ones((C, 1, 1)), requires_grad=True)\n",
    "        self.beta = nn.Parameter(torch.zeros((C, 1, 1)), requires_grad=True)\n",
    "\n",
    "    def forward(self, x):\n",
    "        h = F.avg_pool2d(x, kernel_size=2, divisor_override=1)\n",
    "        return self.alpha * h + self.beta\n",
    "\n",
    "class LeNetTanh(nn.Module):\n",
    "    def __init__(self):\n",
    "        super().__init__()\n",
    "\n",
    "    def forward(self, x):\n",
    "        return 1.7159 * F.tanh(2/3 * x)\n",
    "\n",
    "class SparseConv2D(nn.Module):\n",
    "    def __init__(self, in_channels, out_channels, kernel_size):\n",
    "        super().__init__()\n",
    "        w = torch.randn((out_channels, in_channels, kernel_size, kernel_size))\n",
    "        mask = torch.tensor([\n",
    "            [True, True, True, False, False, False],\n",
    "            [False, True, True, True, False, False],\n",
    "            [False, False, True, True, True, False],\n",
    "            [False, False, False, True, True, True],\n",
    "            [True, False, False, False, True, True],\n",
    "            [True, True, False, False, False, True],\n",
    "            [True, True, True, True, False, False],\n",
    "            [False, True, True, True, True, False],\n",
    "            [False, False, True, True, True, True],\n",
    "            [True, False, False, True, True, True],\n",
    "            [True, True, False, False, True, True],\n",
    "            [True, True, True, False, False, True],\n",
    "            [True, True, False, True, True, False],\n",
    "            [False, True, True, False, True, True],\n",
    "            [True, False, True, True, False, True],\n",
    "            [True, True, True, True, True, True],\n",
    "        ])\n",
    "        w[mask, :, :] = 0\n",
    "\n",
    "        def hook(module, grad_input, grad_output):\n",
    "            module.w.grad.data[mask, :, :] = 0\n",
    "        \n",
    "        self.register_full_backward_hook(hook)\n",
    "        \n",
    "        self.w = nn.Parameter(w, requires_grad=True)\n",
    "        self.b = nn.Parameter(torch.zeros(out_channels), requires_grad=True)\n",
    "\n",
    "    def forward(self, x):\n",
    "        return F.conv2d(x, self.w, self.b)\n",
    "\n",
    "class RBF(nn.Module):\n",
    "    def __init__(self):\n",
    "        super().__init__()\n",
    "        _zero = torch.tensor([\n",
    "            [0,1,1,1,1,1,0],\n",
    "            [0,0,0,0,0,0,0],\n",
    "            [0,0,1,1,1,0,0],\n",
    "            [0,1,1,0,1,1,0],\n",
    "            [1,1,0,0,0,1,1],\n",
    "            [1,1,0,0,0,1,1],\n",
    "            [1,1,0,0,0,1,1],\n",
    "            [1,1,0,0,0,1,1],\n",
    "            [0,1,1,0,1,1,0],\n",
    "            [0,0,1,1,1,0,0],\n",
    "            [0,0,0,0,0,0,0],\n",
    "            [0,0,0,0,0,0,0],\n",
    "        ])\n",
    "        _zero = torch.where(_zero == 0, -1, _zero).flatten()\n",
    "\n",
    "        _one = torch.tensor([\n",
    "            [0,0,0,1,1,0,0],\n",
    "            [0,0,1,1,1,0,0],\n",
    "            [0,1,1,1,1,0,0],\n",
    "            [0,0,0,1,1,0,0],\n",
    "            [0,0,0,1,1,0,0],\n",
    "            [0,0,0,1,1,0,0],\n",
    "            [0,0,0,1,1,0,0],\n",
    "            [0,0,0,1,1,0,0],\n",
    "            [0,0,0,1,1,0,0],\n",
    "            [0,1,1,1,1,1,1],\n",
    "            [0,0,0,0,0,0,0],\n",
    "            [0,0,0,0,0,0,0],\n",
    "        ])\n",
    "        _one = torch.where(_one == 0, -1, _one).flatten()\n",
    "\n",
    "        _two = torch.tensor([\n",
    "            [0,1,1,1,1,1,0],\n",
    "            [0,0,0,0,0,0,0],\n",
    "            [0,1,1,1,1,1,0],\n",
    "            [1,1,0,0,0,1,1],\n",
    "            [1,0,0,0,0,1,1],\n",
    "            [0,0,0,0,1,1,0],\n",
    "            [0,0,1,1,1,0,0],\n",
    "            [0,1,1,0,0,0,0],\n",
    "            [1,1,0,0,0,0,0],\n",
    "            [1,1,1,1,1,1,1],\n",
    "            [0,0,0,0,0,0,0],\n",
    "            [0,0,0,0,0,0,0],\n",
    "        ])\n",
    "        _two = torch.where(_two == 0, -1, _two).flatten()\n",
    "\n",
    "        _three = torch.tensor([\n",
    "            [1,1,1,1,1,1,1],\n",
    "            [0,0,0,0,0,1,1],\n",
    "            [0,0,0,0,1,1,0],\n",
    "            [0,0,0,1,1,0,0],\n",
    "            [0,0,1,1,1,1,0],\n",
    "            [0,0,0,0,0,1,1],\n",
    "            [0,0,0,0,0,1,1],\n",
    "            [0,0,0,0,0,1,1],\n",
    "            [1,0,0,0,0,1,1],\n",
    "            [0,1,1,1,1,1,0],\n",
    "            [0,0,0,0,0,0,0],\n",
    "            [0,0,0,0,0,0,0],\n",
    "        ])\n",
    "        _three = torch.where(_three == 0, -1, _three).flatten()\n",
    "\n",
    "        _four = torch.tensor([\n",
    "            [0,1,1,1,1,1,0],\n",
    "            [0,0,0,0,0,0,0],\n",
    "            [0,0,0,0,0,0,0],\n",
    "            [0,1,1,0,0,1,1],\n",
    "            [0,1,1,0,0,1,1],\n",
    "            [1,1,1,0,0,1,1],\n",
    "            [1,1,0,0,0,1,1],\n",
    "            [1,1,0,0,0,1,1],\n",
    "            [1,1,0,0,1,1,1],\n",
    "            [0,1,1,1,1,1,1],\n",
    "            [0,0,0,0,0,1,1],\n",
    "            [0,0,0,0,0,1,1],\n",
    "        ])\n",
    "        _four = torch.where(_four == 0, -1, _four).flatten()\n",
    "\n",
    "        _five = torch.tensor([\n",
    "            [0,1,1,1,1,1,0],\n",
    "            [0,0,0,0,0,0,0],\n",
    "            [1,1,1,1,1,1,1],\n",
    "            [1,1,0,0,0,0,0],\n",
    "            [1,1,0,0,0,0,0],\n",
    "            [0,1,1,1,1,0,0],\n",
    "            [0,0,1,1,1,1,0],\n",
    "            [0,0,0,0,0,1,1],\n",
    "            [1,1,0,0,0,1,1],\n",
    "            [0,1,1,1,1,1,0],\n",
    "            [0,0,0,0,0,0,0],\n",
    "            [0,0,0,0,0,0,0],\n",
    "        ])\n",
    "        _five = torch.where(_five == 0, -1, _five).flatten()\n",
    "\n",
    "        _six = torch.tensor([\n",
    "            [0,0,1,1,1,1,0],\n",
    "            [0,1,1,0,0,0,0],\n",
    "            [1,1,0,0,0,0,0],\n",
    "            [1,1,0,0,0,0,0],\n",
    "            [1,1,1,1,1,1,0],\n",
    "            [1,1,1,0,0,1,1],\n",
    "            [1,1,0,0,0,1,1],\n",
    "            [1,1,0,0,0,1,1],\n",
    "            [1,1,1,0,0,1,1],\n",
    "            [0,1,1,1,1,1,0],\n",
    "            [0,0,0,0,0,0,0],\n",
    "            [0,0,0,0,0,0,0],\n",
    "        ])\n",
    "        _six = torch.where(_six == 0, -1, _six).flatten()\n",
    "\n",
    "        _seven = torch.tensor([\n",
    "            [1,1,1,1,1,1,1],\n",
    "            [0,0,0,0,0,1,1],\n",
    "            [0,0,0,0,0,1,1],\n",
    "            [0,0,0,0,1,1,0],\n",
    "            [0,0,0,1,1,0,0],\n",
    "            [0,0,0,1,1,0,0],\n",
    "            [0,0,1,1,0,0,0],\n",
    "            [0,0,1,1,0,0,0],\n",
    "            [0,0,1,1,0,0,0],\n",
    "            [0,0,1,1,0,0,0],\n",
    "            [0,0,0,0,0,0,0],\n",
    "            [0,0,0,0,0,0,0],\n",
    "        ])\n",
    "        _seven = torch.where(_seven == 0, -1, _seven).flatten()\n",
    "\n",
    "        _eight = torch.tensor([\n",
    "            [0,1,1,1,1,1,0],\n",
    "            [1,1,0,0,0,1,1],\n",
    "            [1,1,0,0,0,1,1],\n",
    "            [1,1,0,0,0,1,1],\n",
    "            [0,1,1,1,1,1,0],\n",
    "            [1,1,0,0,0,1,1],\n",
    "            [1,1,0,0,0,1,1],\n",
    "            [1,1,0,0,0,1,1],\n",
    "            [1,1,0,0,0,1,1],\n",
    "            [0,1,1,1,1,1,0],\n",
    "            [0,0,0,0,0,0,0],\n",
    "            [0,0,0,0,0,0,0],\n",
    "        ])\n",
    "\n",
    "        _eight = torch.where(_eight == 0, -1, _eight).flatten()\n",
    "        _nine = torch.tensor([\n",
    "            [0,1,1,1,1,1,0],\n",
    "            [1,1,0,0,1,1,1],\n",
    "            [1,1,0,0,0,1,1],\n",
    "            [1,1,0,0,0,1,1],\n",
    "            [1,1,0,0,1,1,1],\n",
    "            [0,1,1,1,1,1,1],\n",
    "            [0,0,0,0,0,1,1],\n",
    "            [0,0,0,0,0,1,1],\n",
    "            [0,0,0,0,1,1,0],\n",
    "            [1,1,1,1,1,0,0],\n",
    "            [0,0,0,0,0,0,0],\n",
    "            [0,0,0,0,0,0,0],\n",
    "        ])\n",
    "        _nine = torch.where(_nine == 0, -1, _nine).flatten()\n",
    "\n",
    "        self.W = nn.Parameter(torch.stack((_zero, _one, _two, _three, _four, _five, _six, _seven, _eight, _nine), dim=0).to(dtype=torch.float32), requires_grad=True)\n",
    "        # self.W = torch.stack((_zero, _one, _two, _three, _four, _five, _six, _seven, _eight, _nine), dim=0)\n",
    "\n",
    "    def forward(self, x):\n",
    "        x = x.unsqueeze(dim=1)\n",
    "        return (x - self.W).pow(2).sum(dim=2)\n",
    "\n",
    "class LeNet5(nn.Module):\n",
    "    def __init__(self):\n",
    "        super().__init__()\n",
    "        self.layers = nn.Sequential(\n",
    "            nn.Conv2d(in_channels=1, out_channels=6, kernel_size=5, padding=2),\n",
    "            LeNetTanh(),\n",
    "            SubSampling(in_shape=(6, 28, 28), out_shape=(6, 14, 14)),\n",
    "            LeNetTanh(),\n",
    "            # todo the next layer should be sparse, not all 6 in_channels are connected with the 16 out_channels\n",
    "            SparseConv2D(in_channels=6, out_channels=16, kernel_size=5),\n",
    "            LeNetTanh(),\n",
    "            SubSampling(in_shape=(16, 10, 10), out_shape=(16, 5, 5)),\n",
    "            LeNetTanh(),\n",
    "            nn.Conv2d(in_channels=16, out_channels=120, kernel_size=5),\n",
    "            LeNetTanh(),\n",
    "            nn.Flatten(),\n",
    "            nn.Linear(in_features=120, out_features=84),\n",
    "            LeNetTanh(),\n",
    "            RBF(),\n",
    "        )\n",
    "    \n",
    "    def forward(self, x):\n",
    "        return self.layers(x)"
   ]
  },
  {
   "cell_type": "code",
   "execution_count": 5,
   "metadata": {},
   "outputs": [
    {
     "name": "stdout",
     "output_type": "stream",
     "text": [
      "Using cuda device\n"
     ]
    }
   ],
   "source": [
    "device = (\n",
    "    \"cuda\"\n",
    "    if torch.cuda.is_available()\n",
    "    else \"mps\"\n",
    "    if torch.backends.mps.is_available()\n",
    "    else \"cpu\"\n",
    ")\n",
    "print(f\"Using {device} device\")"
   ]
  },
  {
   "cell_type": "code",
   "execution_count": 42,
   "metadata": {},
   "outputs": [],
   "source": [
    "model = LeNet5().to(device)"
   ]
  },
  {
   "cell_type": "code",
   "execution_count": 40,
   "metadata": {},
   "outputs": [],
   "source": [
    "def loss_fn(X, y, model):\n",
    "    j = 2\n",
    "    pred = model(X)\n",
    "    # mask = torch.ones((y.numel(), 10), dtype=torch.bool)\n",
    "    # mask[torch.arange(X.size(0)), y] = False\n",
    "\n",
    "    correct = pred[torch.arange(y.numel()), y]\n",
    "    # incorrect = torch.log(torch.exp(torch.tensor(-j)) + torch.exp(-pred[mask].view(X.size(0), -1)).sum(dim=1))\n",
    "    second_term = torch.log(torch.exp(torch.tensor(-j)) + torch.exp(-pred.view(X.size(0), -1)).sum(dim=1))\n",
    "\n",
    "    return (correct + second_term).mean()"
   ]
  },
  {
   "cell_type": "code",
   "execution_count": 8,
   "metadata": {},
   "outputs": [],
   "source": [
    "def train(dataloader, model, loss_fn, optimizer):\n",
    "    size = len(dataloader.dataset)\n",
    "    model.train()\n",
    "    for batch, (X, y) in enumerate(dataloader):\n",
    "        X, y = X.to(device), y.to(device)\n",
    "        # Compute prediction error\n",
    "        loss = loss_fn(X, y, model)\n",
    "\n",
    "        # Backpropagation\n",
    "        loss.backward()\n",
    "        optimizer.step()\n",
    "        optimizer.zero_grad()\n",
    "\n",
    "        # if batch % 100 == 0:\n",
    "        #     loss, current = loss.item(), (batch + 1) * len(X)\n",
    "        #     print(f\"loss: {loss:>7f}  [{current:>5d}/{size:>5d}]\")"
   ]
  },
  {
   "cell_type": "code",
   "execution_count": 9,
   "metadata": {},
   "outputs": [],
   "source": [
    "def test(dataloader, model):\n",
    "    size = len(dataloader.dataset)\n",
    "    num_batches = len(dataloader)\n",
    "    model.eval()\n",
    "    correct = 0\n",
    "    with torch.no_grad():\n",
    "        for X, y in dataloader:\n",
    "            X, y = X.to(device), y.to(device)\n",
    "            pred = model(X)\n",
    "            correct += (pred.argmin(1) == y).type(torch.float).sum().item()\n",
    "    correct /= size\n",
    "\n",
    "    return 100*(1-correct)\n",
    "    # print(f\"Test Error: \\n Error: {(100*(1-correct)):>0.1f}%\")"
   ]
  },
  {
   "cell_type": "code",
   "execution_count": 43,
   "metadata": {},
   "outputs": [
    {
     "name": "stdout",
     "output_type": "stream",
     "text": [
      "epoch=0\n",
      "train_error=3.376666666666661 test_error=3.3399999999999985\n",
      "epoch=1\n",
      "train_error=2.5466666666666637 test_error=2.7100000000000013\n",
      "epoch=2\n",
      "train_error=2.076666666666671 test_error=2.3800000000000043\n",
      "epoch=3\n",
      "train_error=1.6449999999999965 test_error=1.9900000000000029\n",
      "epoch=4\n",
      "train_error=1.3966666666666683 test_error=1.6900000000000026\n",
      "epoch=5\n",
      "train_error=1.244999999999996 test_error=1.6299999999999981\n",
      "epoch=6\n",
      "train_error=1.165000000000005 test_error=1.739999999999997\n",
      "epoch=7\n",
      "train_error=1.1533333333333284 test_error=1.6599999999999948\n",
      "epoch=8\n",
      "train_error=1.100000000000001 test_error=1.7800000000000038\n",
      "epoch=9\n",
      "train_error=0.9483333333333288 test_error=1.6199999999999992\n",
      "epoch=10\n",
      "train_error=1.4966666666666684 test_error=1.9199999999999995\n",
      "epoch=11\n",
      "train_error=0.9683333333333377 test_error=1.649999999999996\n",
      "epoch=12\n",
      "train_error=0.8266666666666644 test_error=1.649999999999996\n",
      "epoch=13\n",
      "train_error=0.6233333333333313 test_error=1.4000000000000012\n",
      "epoch=14\n",
      "train_error=0.556666666666672 test_error=1.3000000000000012\n",
      "epoch=15\n",
      "train_error=0.4533333333333278 test_error=1.3000000000000012\n",
      "epoch=16\n",
      "train_error=0.44999999999999485 test_error=1.1900000000000022\n",
      "epoch=17\n",
      "train_error=0.5366666666666631 test_error=1.649999999999996\n",
      "epoch=18\n",
      "train_error=0.436666666666663 test_error=1.3700000000000045\n",
      "epoch=19\n",
      "train_error=0.46000000000000485 test_error=1.4800000000000035\n"
     ]
    }
   ],
   "source": [
    "from torch.utils.data import DataLoader\n",
    "\n",
    "train_dataloader = DataLoader(train_dataset, batch_size=64, shuffle=True, num_workers=1)\n",
    "test_dataloader = DataLoader(test_dataset, batch_size=64, shuffle=True, num_workers=1)\n",
    "\n",
    "train_errors = []\n",
    "test_errors = []\n",
    "optimizer = torch.optim.AdamW(model.parameters())\n",
    "# scheduler = torch.optim.lr_scheduler.StepLR(optimizer,step_size=1, gamma=0.9)\n",
    "for epoch in range(20):\n",
    "    # if epoch < 10:\n",
    "    #     lr = 1e-3\n",
    "    # else:\n",
    "    #     lr = 1e-4\n",
    "    # mu = 0.9\n",
    "    \n",
    "    # optimizer = torch.optim.SGD(model.parameters(), lr=lr, momentum=0.9)    \n",
    "    print(f\"{epoch=}\")\n",
    "    train(train_dataloader, model, loss_fn, optimizer)\n",
    "    # scheduler.step()\n",
    "    \n",
    "    train_error = test(train_dataloader, model)\n",
    "    train_errors.append(train_error)\n",
    "    test_error = test(test_dataloader, model)\n",
    "    test_errors.append(test_error)\n",
    "    print(f\"{train_error=} {test_error=}\")\n"
   ]
  },
  {
   "cell_type": "code",
   "execution_count": 29,
   "metadata": {},
   "outputs": [
    {
     "data": {
      "image/png": "[encoded data removed]",
      "text/plain": [
       "<Figure size 640x480 with 1 Axes>"
      ]
     },
     "metadata": {},
     "output_type": "display_data"
    }
   ],
   "source": [
    "import matplotlib.pyplot as plt\n",
    "\n",
    "x = [i for i in range(20)]\n",
    "plt.plot(x, torch.tensor(train_errors), label=\"Train Error\", color=\"blue\")\n",
    "plt.plot(x, torch.tensor(test_errors), label=\"Test Error\", color=\"red\")\n",
    "plt.xlabel('Epochs')\n",
    "plt.ylabel('Error')\n",
    "plt.legend() \n",
    "plt.show()"
   ]
  },
  {
   "cell_type": "code",
   "execution_count": 19,
   "metadata": {},
   "outputs": [
    {
     "data": {
      "text/plain": [
       "1.1800000000000033"
      ]
     },
     "execution_count": 19,
     "metadata": {},
     "output_type": "execute_result"
    }
   ],
   "source": [
    "test_dataloader = DataLoader(test_dataset, batch_size=64)\n",
    "test(test_dataloader, model)"
   ]
  },
  {
   "cell_type": "markdown",
   "metadata": {},
   "source": [
    "20 epochs, SGD, lr = 1e-3 for first 10 epochs, then 1e-4\n",
    "\n",
    "RBF weight frozen -> 1.2900000000000023% error on test data\n",
    "RBF learned weights -> 1.5900000000000025% error on test data, lr is too low, train error is not dropping fast enough\n",
    "\n",
    "20 epochs, SGD, lr = 1e-3 no decay\n",
    "RBF learned weights -> 1.429999999999998% error on test data - error rate still dropping, I can train for longer, or with higher LR\n",
    "\n",
    "20 epochs, SGD, lr = 2e-3 no decay\n",
    "RBF learned weights -> 1.429999999999998% error on test data - error rate still dropping, I can train for longer, or with higher LR\n",
    "We are overfitting the data, let's move back to a lr of 1e-3 with no decay\n",
    "\n",
    "Using a sigmoid in the outpout of the SubSampling layers makes convergence slower, let's remove it.\n",
    "20 epochs, SGD, lr = 1e-3 no decay\n",
    "RBF learned weight -> 1.34% no overfitting, could have trained for longer\n",
    "\n",
    "Let's try to change the loss function to not exclude the correct class in the second term\n",
    "I get the same error rate of 1.34% with no sign of overfitting, so let's keep this definition for loss as it is simpler\n",
    "\n",
    "With 30 epochs, we have signs of overfitting, past the ~18 epoch. \n",
    "\n",
    "When shuffling the data, with 20 epoch, I get a test error rate of 1.21%\n",
    "- Let's try to use momentum and SGD to see if that helps\n",
    "Momentum set at 0.9 helps, I get a test error rate of 1.19%, however we see clear sign of overfitting\n",
    "before recuding the number of connection in the model, I will try to use weight decay\n",
    "\n",
    "With weight decay set to 0.01, I observe unstability in training, the lr is probbaly to high\n",
    "I stopped using weight decay because it was making training too noisy, and still exhibit overfitting. I implemented the sparse convolution layer instead\n",
    "\n",
    "Using default settings with AdamW optimizer, I achieve 1.18% error rate.\n",
    "The error rate is still spiky on the second half of training so I will try to using learning rate decay."
   ]
  },
  {
   "cell_type": "code",
   "execution_count": 20,
   "metadata": {},
   "outputs": [],
   "source": [
    "torch.save(model.state_dict(), \"le_net_5.pth\")"
   ]
  }
 ],
 "metadata": {
  "kernelspec": {
   "display_name": "Python 3 (ipykernel)",
   "language": "python",
   "name": "python3"
  },
  "language_info": {
   "codemirror_mode": {
    "name": "ipython",
    "version": 3
   },
   "file_extension": ".py",
   "mimetype": "text/x-python",
   "name": "python",
   "nbconvert_exporter": "python",
   "pygments_lexer": "ipython3",
   "version": "3.11.5"
  }
 },
 "nbformat": 4,
 "nbformat_minor": 4
}
